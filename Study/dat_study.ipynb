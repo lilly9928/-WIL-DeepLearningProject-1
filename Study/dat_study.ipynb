{
 "cells": [
  {
   "cell_type": "code",
   "execution_count": 4,
   "metadata": {
    "collapsed": true
   },
   "outputs": [],
   "source": [
    "import math\n",
    "import torch\n",
    "import einops\n",
    "import torch.nn as nn\n",
    "import torch.nn.functional as F\n",
    "from timm.models.layers import DropPath, to_2tuple,trunc_normal_"
   ]
  },
  {
   "cell_type": "code",
   "execution_count": 5,
   "outputs": [],
   "source": [
    "img_size=224\n",
    "patch_size=4\n",
    "num_classes=1000\n",
    "expansion=4\n",
    "dim_stem=96\n",
    "dims=[96, 192, 384, 768]\n",
    "depths=[2, 2, 6, 2]\n",
    "heads=[3, 6, 12, 24]\n",
    "window_sizes=[7, 7, 7, 7]\n",
    "drop_rate=0.0\n",
    "attn_drop_rate=0.0\n",
    "drop_path_rate=0.0\n",
    "strides=[-1,-1,-1,-1]\n",
    "offset_range_factor=[1, 2, 3, 4]\n",
    "stage_spec=[['L', 'D'], ['L', 'D'], ['L', 'D', 'L', 'D', 'L', 'D'], ['L', 'D']]\n",
    "groups=[-1, -1, 3, 6]\n",
    "use_pes=[False, False, False, False]\n",
    "dwc_pes=[False, False, False, False]\n",
    "sr_ratios=[8, 4, 2, 1]\n",
    "fixed_pes=[False, False, False, False]\n",
    "no_offs=[False, False, False, False]\n",
    "ns_per_pts=[4, 4, 4, 4]\n",
    "use_dwc_mlps=[False, False, False, False]\n",
    "use_conv_patches=False"
   ],
   "metadata": {
    "collapsed": false
   }
  },
  {
   "cell_type": "code",
   "execution_count": 6,
   "outputs": [],
   "source": [
    "class LayerNormProxy(nn.Module):\n",
    "\n",
    "    def __init__(self, dim):\n",
    "\n",
    "        super().__init__()\n",
    "        self.norm = nn.LayerNorm(dim)\n",
    "\n",
    "    def forward(self, x):\n",
    "\n",
    "        x = einops.rearrange(x, 'b c h w -> b h w c')\n",
    "        x = self.norm(x)\n",
    "        return einops.rearrange(x, 'b h w c -> b c h w')"
   ],
   "metadata": {
    "collapsed": false
   }
  },
  {
   "cell_type": "code",
   "execution_count": 11,
   "outputs": [
    {
     "name": "stdout",
     "output_type": "stream",
     "text": [
      "torch.Size([1, 96, 56, 56])\n"
     ]
    }
   ],
   "source": [
    "x = torch.rand(1,3,224,224)\n",
    "#dim_stem = 96 , patch_size = 4\n",
    "patch_proj = nn.Sequential(\n",
    "            nn.Conv2d(3, dim_stem, 7, patch_size, 3),\n",
    "            LayerNormProxy(dim_stem))\n",
    "\n",
    "x = patch_proj(x)\n",
    "print(x.shape)\n",
    "\n",
    "positions = []\n",
    "references = []"
   ],
   "metadata": {
    "collapsed": false
   }
  },
  {
   "cell_type": "code",
   "execution_count": null,
   "outputs": [],
   "source": [
    "class TransformerStage(nn.Module):\n",
    "\n",
    "    def __init__(self, fmap_size, window_size, ns_per_pt,\n",
    "                 dim_in, dim_embed, depths, stage_spec, n_groups,\n",
    "                 use_pe, sr_ratio,\n",
    "                 heads, stride, offset_range_factor, stage_idx,\n",
    "                 dwc_pe, no_off, fixed_pe,\n",
    "                 attn_drop, proj_drop, expansion, drop, drop_path_rate, use_dwc_mlp):\n",
    "\n",
    "        super().__init__()\n",
    "        fmap_size = to_2tuple(fmap_size)\n",
    "        self.depths = depths\n",
    "        hc = dim_embed // heads\n",
    "        assert dim_embed == heads * hc\n",
    "        self.proj = nn.Conv2d(dim_in, dim_embed, 1, 1, 0) if dim_in != dim_embed else nn.Identity()\n",
    "\n",
    "        self.layer_norms = nn.ModuleList(\n",
    "            [LayerNormProxy(dim_embed) for _ in range(2 * depths)]\n",
    "        )\n",
    "        self.mlps = nn.ModuleList(\n",
    "            [\n",
    "                TransformerMLPWithConv(dim_embed, expansion, drop)\n",
    "                if use_dwc_mlp else TransformerMLP(dim_embed, expansion, drop)\n",
    "                for _ in range(depths)\n",
    "            ]\n",
    "        )\n",
    "        self.attns = nn.ModuleList()\n",
    "        self.drop_path = nn.ModuleList()\n",
    "        for i in range(depths):\n",
    "            if stage_spec[i] == 'L':\n",
    "                self.attns.append(\n",
    "                    LocalAttention(dim_embed, heads, window_size, attn_drop, proj_drop)\n",
    "                )\n",
    "            elif stage_spec[i] == 'D':\n",
    "                self.attns.append(\n",
    "                    DAttentionBaseline(fmap_size, fmap_size, heads,\n",
    "                    hc, n_groups, attn_drop, proj_drop,\n",
    "                    stride, offset_range_factor, use_pe, dwc_pe,\n",
    "                    no_off, fixed_pe, stage_idx)\n",
    "                )\n",
    "            elif stage_spec[i] == 'S':\n",
    "                shift_size = math.ceil(window_size / 2)\n",
    "                self.attns.append(\n",
    "                    ShiftWindowAttention(dim_embed, heads, window_size, attn_drop, proj_drop, shift_size, fmap_size)\n",
    "                )\n",
    "            else:\n",
    "                raise NotImplementedError(f'Spec: {stage_spec[i]} is not supported.')\n",
    "\n",
    "            self.drop_path.append(DropPath(drop_path_rate[i]) if drop_path_rate[i] > 0.0 else nn.Identity())\n",
    "\n",
    "    def forward(self, x):\n",
    "\n",
    "        x = self.proj(x)\n",
    "\n",
    "        positions = []\n",
    "        references = []\n",
    "        for d in range(self.depths):\n",
    "\n",
    "            x0 = x\n",
    "            x, pos, ref = self.attns[d](self.layer_norms[2 * d](x))\n",
    "            x = self.drop_path[d](x) + x0\n",
    "            x0 = x\n",
    "            x = self.mlps[d](self.layer_norms[2 * d + 1](x))\n",
    "            x = self.drop_path[d](x) + x0\n",
    "            positions.append(pos)\n",
    "            references.append(ref)\n",
    "\n",
    "        return x, positions, references\n"
   ],
   "metadata": {
    "collapsed": false
   }
  },
  {
   "cell_type": "code",
   "execution_count": null,
   "outputs": [],
   "source": [
    "stages = nn.ModuleList()\n",
    "dpr = [x.item() for x in torch.linspace(0, drop_path_rate, sum(depths))]\n",
    "for i in range(4):\n",
    "            dim1 = dim_stem if i == 0 else dims[i - 1] * 2\n",
    "            dim2 = dims[i]\n",
    "            stages.append(\n",
    "                TransformerStage(img_size, window_sizes[i], ns_per_pts[i],\n",
    "                dim1, dim2, depths[i], stage_spec[i], groups[i], use_pes[i],\n",
    "                sr_ratios[i], heads[i], strides[i],\n",
    "                offset_range_factor[i], i,\n",
    "                dwc_pes[i], no_offs[i], fixed_pes[i],\n",
    "                attn_drop_rate, drop_rate, expansion, drop_rate,\n",
    "                dpr[sum(depths[:i]):sum(depths[:i + 1])],\n",
    "                use_dwc_mlps[i])\n",
    "            )"
   ],
   "metadata": {
    "collapsed": false
   }
  }
 ],
 "metadata": {
  "kernelspec": {
   "display_name": "Python 3",
   "language": "python",
   "name": "python3"
  },
  "language_info": {
   "codemirror_mode": {
    "name": "ipython",
    "version": 2
   },
   "file_extension": ".py",
   "mimetype": "text/x-python",
   "name": "python",
   "nbconvert_exporter": "python",
   "pygments_lexer": "ipython2",
   "version": "2.7.6"
  }
 },
 "nbformat": 4,
 "nbformat_minor": 0
}
